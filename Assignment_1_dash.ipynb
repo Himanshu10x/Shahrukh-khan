{
  "cells": [
    {
      "cell_type": "markdown",
      "metadata": {
        "id": "-gcuKKKEhYOJ"
      },
      "source": [
        "#1. In the below elements which of them are values or an expression? eg:- values can be\n",
        "integer or string and expressions will be mathematical operators.\n",
        "*\n",
        "&#39;hello&#39;\n",
        "-87.8\n",
        "-\n",
        "/\n",
        "+\n",
        "6"
      ]
    },
    {
      "cell_type": "markdown",
      "metadata": {
        "id": "AZ6KkILqt85O"
      },
      "source": [
        "Basically, in the above question we have to demonstrate values and expression given:\n",
        "So the values are\n",
        "- 'hello' #The Value shown is the string\n",
        "- 87.8    #The Value shown is the float\n",
        "- 6       #The Value shown is the integer\n",
        "\n",
        "And the expression are\n",
        "- *    #The given sign is expression named multiplication operator\n",
        "- -    #The given sign is expression named subtraction operator\n",
        "- /     #The given sign is expression named division operator\n",
        "- +    #The given sign is expression named addition operator"
      ]
    },
    {
      "cell_type": "markdown",
      "metadata": {
        "id": "CWPCTKcJktN-"
      },
      "source": [
        "#2. What is the difference between string and variable?\n",
        "\n",
        "\n"
      ]
    },
    {
      "cell_type": "markdown",
      "metadata": {
        "id": "9d_535Ggux5X"
      },
      "source": [
        "The difference between string and variable is :\n",
        "\n",
        "String - String is one of the data type which can contain character such as letters, digits, symbols, or spaces but the only condition is it must\n",
        "         enclosed within single quotes (' ') or double quotes (\" \") . Strings are immutable in many programming languages, meaning their value\n",
        "         cannot be changed after they are built. By using string we can perform many operations such as concatenation(joining strings) slicing etc.\n",
        "         for example : \"Himanshu\", \"123\" , \"*\" 3 of them count as string for assumption anything we write between double or single inverted comma is\n",
        "        string.\n",
        "\n",
        "\n",
        "Variable - Variable is not a data type it is specifically known for holding any\n",
        "           data type. It can store different types of data, such as integers, floats, booleans, and strings.It can work as a type of input we have\n",
        "           to fill up in forms. Variable name should start with alphabet. Variable name should not contain any special character like !,@,#,$,%,^,&,*,() etc. Variable name must start with a letter or the underscore character. A variable name cannot start with a number.It's not a strict rule that you should use variable name with a capital letter,but it is reccomend to use small letter for the variables.\n"
      ]
    },
    {
      "cell_type": "markdown",
      "metadata": {
        "id": "tKXpPoacyaYX"
      },
      "source": [
        "#3. Describe three different data types."
      ]
    },
    {
      "cell_type": "markdown",
      "metadata": {
        "id": "btpWZzeDCQsE"
      },
      "source": [
        "String - String is one of the data type which can contain character such as letters, digits, symbols, or spaces but the only condition is it must\n",
        "         enclosed within single quotes (' ') or double quotes (\" \") . Strings are immutable in many programming languages, meaning their value\n",
        "         cannot be changed after they are built. By using string we can perform many operations such as concatenation(joining strings) slicing etc.\n",
        "         for example : \"Himanshu\", \"123\" , \"*\" 3 of them count as string for assumption anything we write between double or single inverted comma is\n",
        "        string.\n",
        "\n",
        "\n",
        "Integer - Integer is also a one of those data type.It contains only numbers no alphabets, whole numbers, both positive and negative, without any decimal numbers. It can only store numerical value and not fractional part.For example:\n",
        " current__year = 2023.\n",
        "\n",
        "\n",
        "Boolean - It is one of the easy data type which contains type of condition which is correct or wrong so for correct it is True and for wrong it is False.We can say that boolean has two possible values True and False.Here, we have to see that whenever we write True or False for boolean the first letter must capital or this can show error. Booleans represent binary conditions, such as on/off, true/false, yes/no. For example: Coding_right_now = True, Earth_is_flat = False."
      ]
    },
    {
      "cell_type": "markdown",
      "metadata": {
        "id": "taMYvtugHmkO"
      },
      "source": [
        "#4. What is an expression made up of? What do all expressions do?"
      ]
    },
    {
      "cell_type": "markdown",
      "metadata": {
        "id": "-WCRHdDY2-0p"
      },
      "source": [
        "\n",
        "An expression is a combination of one or more values, variables, operators, and function calls.\n",
        "\n",
        "\n",
        "1. Values - These are the basic elements of an expression and can be numbers too(8,5.21),strings (\"Hello, World!\"), Boolean values (true or false) etc.\n",
        "2. Variables - These allow us to store data in memory.These are names that represent storage locations for values.\n",
        "\n",
        "\n",
        "3. Operators - Operators are symbols that define the type of operation to be performed on the values or variables in the expression. Common operators include arithmetic operators (+, -, *, /), comparison operators (==, <, >, <=, >=), and logical operators (&&, ||, !)etc.\n",
        "2. Functions calls - Functions are usually used to recall them or reused them again and again.Expressions can include function calls, and the function's return value becomes part of the expression's evaluation.\n",
        "\n",
        "- What expressions do:\n",
        "Expressions are used to compute or evaluate a value. When an expression is evaluated, the components are combined according to the rules of the programming language to produce a single result. The result of an expression can be used in various ways:\n",
        "\n",
        "1. Assignment: The result can be assigned to a variable, updating its value.\n",
        "2. Output: The result can be print or display to the user.\n",
        "\n",
        "1. Control flow: Expressions are used in conditional statements (e.g., if-else) or loops to make decisions or control the flow of execution in a program.\n",
        "2. Calculation: Expressions are commonly used for mathematical calculations.\n",
        "\n",
        "\n",
        "for example: Age = 2 * (6 + 5)\n",
        "\n",
        "\n",
        "where,\n",
        "\n",
        "\n",
        "1.  Values: 2, 3, 5\n",
        "\n",
        "2. Operators: *, +\n",
        "\n",
        "\n",
        "\n",
        "\n",
        "\n",
        "\n",
        "\n",
        "\n",
        "\n",
        "\n",
        "\n",
        "\n",
        "\n",
        "\n",
        "\n"
      ]
    },
    {
      "cell_type": "markdown",
      "metadata": {
        "id": "genx6I7zGFVR"
      },
      "source": [
        "#5. This assignment statements, like spam = 10. What is the difference between an expression and a statement?\n"
      ]
    },
    {
      "cell_type": "markdown",
      "metadata": {
        "id": "5HD2jRwyDoIs"
      },
      "source": [
        "**Expression -** An Expression is a combination of values, variables, operators, and function calls that can be evaluated in a result of a single value.Examples of expressions include:\n",
        "\n",
        "\n",
        "\n",
        "1.   Arithmetic expressions: 4 + 5, x * y, 50 / (z + 1)\n",
        "2.   String expressions: \"Hello World\"\n",
        "\n",
        "3.   Function calls: len(string_variable)\n",
        "4.   Logical expressions:  age > 18 && has_permission\n",
        "\n",
        "\n",
        "**Statement -**  A Statement is basically set of instruction or command that tells computer to do a certain given task. Statement generally change loops, conditional statement(if - else), Function and method definitions etc.\n",
        "\n",
        "\n",
        "\n",
        "1.   Assignment statements: spam = 10\n",
        "\n",
        "2.   Conditional statements: if x > 0: print(\"Positive\")\n",
        "\n",
        "3.   Loop statements: for i in range(5): print(i)\n",
        "4.  Function and method definitions: def my_function(): return\n",
        "\n",
        "\n",
        "Expressions are used to produce values, and they can often be nested or combined to create more complex computations.Statements are executed to perform actions and control the flow of a program.\n",
        "\n",
        "\n"
      ]
    },
    {
      "cell_type": "markdown",
      "metadata": {
        "id": "sl40EZkIezn-"
      },
      "source": [
        "#6. After running the following code, what does the variable bacon contain?\n",
        "\n",
        "#bacon = 22\n",
        "#bacon + 1\n"
      ]
    },
    {
      "cell_type": "code",
      "source": [
        "bacon = 22"
      ],
      "metadata": {
        "id": "KpjvEIDyha4C"
      },
      "execution_count": null,
      "outputs": []
    },
    {
      "cell_type": "code",
      "source": [
        "bacon + 1"
      ],
      "metadata": {
        "colab": {
          "base_uri": "https://localhost:8080/"
        },
        "id": "Dm6hUnZhhjEc",
        "outputId": "5e0480bc-36e3-4bc7-c20f-75c290937fc5"
      },
      "execution_count": null,
      "outputs": [
        {
          "output_type": "execute_result",
          "data": {
            "text/plain": [
              "23"
            ]
          },
          "metadata": {},
          "execution_count": 2
        }
      ]
    },
    {
      "cell_type": "code",
      "source": [
        "bacon"
      ],
      "metadata": {
        "colab": {
          "base_uri": "https://localhost:8080/"
        },
        "id": "2Ic84TyLEyVl",
        "outputId": "9c28847d-be99-433b-f453-5d1a4f71b313"
      },
      "execution_count": null,
      "outputs": [
        {
          "output_type": "execute_result",
          "data": {
            "text/plain": [
              "22"
            ]
          },
          "metadata": {},
          "execution_count": 3
        }
      ]
    },
    {
      "cell_type": "markdown",
      "source": [
        "After running the following code, the original value of variable `bacon` is 22. Although, the answer after adding +1 is 23 but when we check variable `bacon` value it becomes 22 the reason behind this is so simple that you have to assigned the value without assigning the value,value  will still remain unchanged."
      ],
      "metadata": {
        "id": "LpNsI1KRV-k2"
      }
    },
    {
      "cell_type": "markdown",
      "source": [
        "#7. What should the values of the following two terms be?\n",
        "#&#39;spam&#39; + &#39;spamspam&#39;\n",
        "#&#39;spam&#39; * 3"
      ],
      "metadata": {
        "id": "iKJqLx_gXGC1"
      }
    },
    {
      "cell_type": "markdown",
      "source": [
        "To calcuate we need to use some arithmatic operator which is `+` basically this operator do a string concatenation.It just add two strings:\n",
        "\n",
        "\n",
        "\n",
        "'spam' + 'spamspam' = 'spamspamspam'\n",
        "\n",
        "\n",
        "So, the value of the first term is 'spam' and the second is 'spamspam' after addding or concatenating it will give 'spamspamspam'.\n",
        "\n",
        "\n",
        "Same as for the second example but the operator has been changed so multiply `*` operator is used where it repeats the string a certain number of times.\n",
        "\n",
        "'spam' * 3 = 'spamspamspam\n",
        "\n",
        "\n",
        "So ,the answer is same but here we have used `*` operator which just repeats the string as per your requirement.\n",
        "\n",
        "\n",
        "\n",
        "\n",
        "\n",
        "\n",
        "\n"
      ],
      "metadata": {
        "id": "KoYZWPk4ZvaM"
      }
    },
    {
      "cell_type": "markdown",
      "source": [
        "#8. Why is eggs a valid variable name while 100 is invalid?"
      ],
      "metadata": {
        "id": "0WIHZsquhjA7"
      }
    },
    {
      "cell_type": "markdown",
      "source": [
        "In most programming languages, including Python, variable names have certain rules and conventions that must be followed. The rules for variable names vary from one language to another.Here are the reasons why 'eggs' is a valid variable name while '100' is invalid in Python:\n",
        "\n",
        "\n",
        "\n",
        "1.   **Starting Character** - As i told in previous code variable start with underscore and alphabets not with numbers variable.It can contain numbers. Eggs is valid because it starts with alphabets.However, '100' starts with the digit '1', which is not allowed.\n",
        "2.   **Subsequent Characters** - Following the first character, variable names can contain letters, digits, and underscores. For example, 'eggs123' is a valid variable name because it starts with a letter and is followed by digits. However, '100' only consists of digits, and thus, it is not a valid variable name.\n",
        "\n",
        "3.   **Reserved Words** -  'eggs' is not a reserved word, so it can be used as a variable name, but '100' is not allowed because it represents a numeric value and is not a valid variable name.\n",
        "\n",
        "In short,'eggs' is a valid variable name because it follows the rules for naming variables in Python, while '100' is invalid because it starts with a digit and does not comply with the variable naming conventions\n",
        "\n",
        "\n",
        "\n",
        "\n",
        "\n",
        "\n"
      ],
      "metadata": {
        "id": "GVl5ovvGhgAb"
      }
    },
    {
      "cell_type": "markdown",
      "source": [
        "#9. What three functions can be used to get the integer, floating-point number, or string version of a value?\n"
      ],
      "metadata": {
        "id": "D7JWV8v3mR6s"
      }
    },
    {
      "cell_type": "markdown",
      "source": [
        "In Python, you can use the following three functions to get the integer, floating-point number, or string version of a value:\n",
        "\n",
        "1. int(): This function is used to convert a value into an integer. If the value is a string representation of an integer, it will be converted to an integer; otherwise, it will raise a ValueError.\n",
        "\n",
        "\n",
        "2. float():In Python, you can use the following three functions to get the integer, floating-point number, or string version of a value:\n",
        "\n",
        "3. str(): This function is used to convert a value into a string. It will return the string representation of the value\n",
        "\n"
      ],
      "metadata": {
        "id": "TXyCnaJamY1w"
      }
    },
    {
      "cell_type": "code",
      "source": [
        "# Conversion to integer\n",
        "a = \"20\"\n",
        "integer_a = int(a)\n",
        "print(a)\n"
      ],
      "metadata": {
        "colab": {
          "base_uri": "https://localhost:8080/"
        },
        "id": "L2atWQmNnFb1",
        "outputId": "fc463d12-672c-4571-d5b3-c3a662dbc7db"
      },
      "execution_count": null,
      "outputs": [
        {
          "output_type": "stream",
          "name": "stdout",
          "text": [
            "20\n"
          ]
        }
      ]
    },
    {
      "cell_type": "code",
      "source": [
        "# Conversion to float\n",
        "a = \"3.14\"\n",
        "float_a = float(a)\n",
        "print(a)"
      ],
      "metadata": {
        "colab": {
          "base_uri": "https://localhost:8080/"
        },
        "id": "zPI4K62fnxlY",
        "outputId": "b58a0cb7-d38c-4026-ecf4-02a393024c15"
      },
      "execution_count": null,
      "outputs": [
        {
          "output_type": "stream",
          "name": "stdout",
          "text": [
            "3.14\n"
          ]
        }
      ]
    },
    {
      "cell_type": "code",
      "source": [
        "# Conversion to string\n",
        "a = 54\n",
        "string_a = str(a)\n",
        "print(a)\n",
        "print(type(string_a))"
      ],
      "metadata": {
        "colab": {
          "base_uri": "https://localhost:8080/"
        },
        "id": "XmeHEzlIoAkT",
        "outputId": "412dcbb3-84cb-49cc-db9d-08ab7c1c5492"
      },
      "execution_count": null,
      "outputs": [
        {
          "output_type": "stream",
          "name": "stdout",
          "text": [
            "54\n",
            "<class 'str'>\n"
          ]
        }
      ]
    },
    {
      "cell_type": "markdown",
      "source": [
        "#10. Why does this expression cause an error? How can you fix it?\n",
        "#&#39;I have eaten &#39; + 99 + &#39; burritos.&#39;"
      ],
      "metadata": {
        "id": "kR9avn4vkLfx"
      }
    },
    {
      "cell_type": "markdown",
      "source": [
        "**Reasons the code has caused error is very simple that user has been trying to concatenate string with integer without converting it to string first.In language of python me must concatenate same data type.It will aimply show type error.**\n",
        "\n",
        "\n",
        "To fix the error, you need to convert the integer 99 to a string before concatenating it with the other strings. You can do this by using the str() function to convert the integer to its string representation.\n",
        "\n",
        "\n",
        "Here, is the correct code:\n",
        "\n"
      ],
      "metadata": {
        "id": "ZRgFDHMrkQEo"
      }
    },
    {
      "cell_type": "code",
      "source": [
        "'I have eaten ' + str(99) + ' burritos.'"
      ],
      "metadata": {
        "colab": {
          "base_uri": "https://localhost:8080/",
          "height": 36
        },
        "id": "uTXnpE27lhby",
        "outputId": "53f7479b-a6fd-4a29-ba1a-836fc9475d87"
      },
      "execution_count": null,
      "outputs": [
        {
          "output_type": "execute_result",
          "data": {
            "text/plain": [
              "'I have eaten 99 burritos.'"
            ],
            "application/vnd.google.colaboratory.intrinsic+json": {
              "type": "string"
            }
          },
          "metadata": {},
          "execution_count": 1
        }
      ]
    },
    {
      "cell_type": "code",
      "source": [
        "'I have eaten ' + '99' + ' burritos.'"
      ],
      "metadata": {
        "colab": {
          "base_uri": "https://localhost:8080/",
          "height": 36
        },
        "id": "S_MVCKPFlskG",
        "outputId": "922db414-c87b-47a4-f7f6-2be2338d87b7"
      },
      "execution_count": null,
      "outputs": [
        {
          "output_type": "execute_result",
          "data": {
            "text/plain": [
              "'I have eaten 99 burritos.'"
            ],
            "application/vnd.google.colaboratory.intrinsic+json": {
              "type": "string"
            }
          },
          "metadata": {},
          "execution_count": 4
        }
      ]
    }
  ],
  "metadata": {
    "colab": {
      "provenance": []
    },
    "kernelspec": {
      "display_name": "Python 3",
      "name": "python3"
    },
    "language_info": {
      "name": "python"
    }
  },
  "nbformat": 4,
  "nbformat_minor": 0
}