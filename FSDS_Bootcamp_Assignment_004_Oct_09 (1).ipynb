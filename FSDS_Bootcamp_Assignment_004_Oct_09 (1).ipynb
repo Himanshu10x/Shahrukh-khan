{
  "nbformat": 4,
  "nbformat_minor": 0,
  "metadata": {
    "colab": {
      "provenance": []
    },
    "kernelspec": {
      "name": "python3",
      "display_name": "Python 3"
    },
    "language_info": {
      "name": "python"
    }
  },
  "cells": [
    {
      "cell_type": "markdown",
      "source": [
        "## control flow and conditional statements"
      ],
      "metadata": {
        "id": "DGpWh9v-YJ0D"
      }
    },
    {
      "cell_type": "markdown",
      "source": [
        "1. Find the largest number from the given list, use for loop.\n",
        "\n",
        "```\n",
        "numbers = [12, 75, 150, 180, 145, 525, 50]\n",
        "```"
      ],
      "metadata": {
        "id": "WxF1kShLYOW9"
      }
    },
    {
      "cell_type": "code",
      "execution_count": null,
      "metadata": {
        "colab": {
          "base_uri": "https://localhost:8080/"
        },
        "id": "EWhZD28OXRdJ",
        "outputId": "e507d9f4-22a5-4b91-c991-84b4228acfc7"
      },
      "outputs": [
        {
          "output_type": "stream",
          "name": "stdout",
          "text": [
            "The largest number is: 525\n"
          ]
        }
      ],
      "source": [
        "numbers = [12, 75, 150, 180, 145, 525, 50]\n",
        "largest = 0\n",
        "for i in numbers:\n",
        "   if largest < i:\n",
        "       largest = i\n",
        "print(f\"The largest number is: {largest}\")"
      ]
    },
    {
      "cell_type": "markdown",
      "source": [
        "2. **Print all the even number between (1, 12).**"
      ],
      "metadata": {
        "id": "Q4lN73ySrMy9"
      }
    },
    {
      "cell_type": "code",
      "source": [
        "for i in range(1,12):\n",
        " if i%2 != 0:\n",
        "   continue\n",
        " print(i)"
      ],
      "metadata": {
        "colab": {
          "base_uri": "https://localhost:8080/"
        },
        "id": "GF2VjeX4rRDO",
        "outputId": "04301853-e833-49a3-c918-1d92961ea475"
      },
      "execution_count": null,
      "outputs": [
        {
          "output_type": "stream",
          "name": "stdout",
          "text": [
            "2\n",
            "4\n",
            "6\n",
            "8\n",
            "10\n"
          ]
        }
      ]
    },
    {
      "cell_type": "markdown",
      "source": [
        "3. **Calculate the sum of all numbers from 1 to a given number**\n",
        "    \n",
        "    Expected Output:\n",
        "\n",
        "    Enter number 10\n",
        "    \n",
        "    Sum is:  55"
      ],
      "metadata": {
        "id": "TYVaDjTEuLKs"
      }
    },
    {
      "cell_type": "code",
      "source": [
        "num=int(input(\"Enter a integer number: \"))\n",
        "sum=0\n",
        "for i in range(1,num+1):\n",
        "    sum+=i              #adding each number in list with sum\n",
        "print(f\"Sum is: {sum}\")"
      ],
      "metadata": {
        "colab": {
          "base_uri": "https://localhost:8080/"
        },
        "id": "OU5iFIHAhYTU",
        "outputId": "78b18345-d004-4657-8100-dab76d71755a"
      },
      "execution_count": 2,
      "outputs": [
        {
          "output_type": "stream",
          "name": "stdout",
          "text": [
            "Enter a integer number: 10\n",
            "Sum is: 55\n"
          ]
        }
      ]
    },
    {
      "cell_type": "markdown",
      "source": [
        "4. **Write a program to display only those numbers from a list that satisfy the following conditions**\n",
        "\n",
        "- The number must be divisible by five\n",
        "\n",
        "- If the number is greater than 150, then skip it and move to the next number\n",
        "\n",
        "- If the number is greater than 500, then stop the loop"
      ],
      "metadata": {
        "id": "o-vdKVbkvS55"
      }
    },
    {
      "cell_type": "code",
      "source": [
        "# Given:\n",
        "\n",
        "numbers = [12, 75, 150, 180, 145, 525, 50]\n",
        "\n",
        "for i in numbers:\n",
        "\n",
        "    if i % 5 == 0:\n",
        "         if i > 150:\n",
        "            continue\n",
        "         if i > 500:\n",
        "            break\n",
        "         print(i)"
      ],
      "metadata": {
        "colab": {
          "base_uri": "https://localhost:8080/"
        },
        "id": "lKbtiJElvdQp",
        "outputId": "6219fc5e-5e27-418a-c0cc-364e20e74ca3"
      },
      "execution_count": null,
      "outputs": [
        {
          "output_type": "stream",
          "name": "stdout",
          "text": [
            "75\n",
            "150\n",
            "145\n",
            "50\n"
          ]
        }
      ]
    },
    {
      "cell_type": "markdown",
      "source": [
        " 5. Print the given list in reverse order.\n",
        "\n",
        "list1 = [10, 20, 30, 40, 50]"
      ],
      "metadata": {
        "id": "pouha0Lbhsd4"
      }
    },
    {
      "cell_type": "code",
      "source": [
        "list1 = [10, 20, 30, 40, 50]\n",
        "for i in reversed(list1):\n",
        "    print(i,end=\" \")"
      ],
      "metadata": {
        "id": "uHRLSaxyyZs4",
        "colab": {
          "base_uri": "https://localhost:8080/"
        },
        "outputId": "4a06b3fd-a489-4321-85d9-7c89227a01fb"
      },
      "execution_count": 3,
      "outputs": [
        {
          "output_type": "stream",
          "name": "stdout",
          "text": [
            "50 40 30 20 10 "
          ]
        }
      ]
    }
  ]
}